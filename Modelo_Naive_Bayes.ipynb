{
  "nbformat": 4,
  "nbformat_minor": 0,
  "metadata": {
    "colab": {
      "provenance": [],
      "authorship_tag": "ABX9TyPYP54Yn6fcLps6Xc7MfaZ0",
      "include_colab_link": true
    },
    "kernelspec": {
      "name": "python3",
      "display_name": "Python 3"
    },
    "language_info": {
      "name": "python"
    }
  },
  "cells": [
    {
      "cell_type": "markdown",
      "metadata": {
        "id": "view-in-github",
        "colab_type": "text"
      },
      "source": [
        "<a href=\"https://colab.research.google.com/github/AlejandroAgduelo22/Business-Analytics/blob/main/Modelo_Naive_Bayes.ipynb\" target=\"_parent\"><img src=\"https://colab.research.google.com/assets/colab-badge.svg\" alt=\"Open In Colab\"/></a>"
      ]
    },
    {
      "cell_type": "markdown",
      "source": [
        "0. Cargamos las librerias"
      ],
      "metadata": {
        "id": "imTYYcJ9ULb6"
      }
    },
    {
      "cell_type": "code",
      "source": [
        "import numpy as np\n",
        "import pandas as pd\n",
        "\n",
        "from sklearn.naive_bayes import GaussianNB\n",
        "from sklearn.metrics import confusion_matrix"
      ],
      "metadata": {
        "id": "GCjQLX-JUQQi"
      },
      "execution_count": null,
      "outputs": []
    },
    {
      "cell_type": "markdown",
      "source": [
        "1. Procedemos con la carga de los datos"
      ],
      "metadata": {
        "id": "VqhjaKGGURmh"
      }
    },
    {
      "cell_type": "code",
      "source": [
        "nxl='/content/1. BD2_CarCrash.xlsx'\n",
        "XDB=pd.read_excel(nxl,sheet_name=0)\n",
        "XDB.dropna() #Evitar celdas vacias\n",
        "XDB.head(100)\n",
        "\n",
        "#Creamos el DataMart\n",
        "XD=XDB[['Weekday','ViolCat','ClearWeather','Month','Daylight']] #Variables Entrada\n",
        "yd=np.array(XDB[['Highway']]) #Valor deseado - Aprenda el modelo\n",
        "\n",
        "\n",
        "print(\"El numero de datos es:\",len(XD))\n",
        "len((np.where(yd==1))[0])/len(XD)"
      ],
      "metadata": {
        "id": "MrkkSIdGUWW-",
        "colab": {
          "base_uri": "https://localhost:8080/"
        },
        "outputId": "89ea18b9-2fa0-47db-8a0d-69a1831d814c"
      },
      "execution_count": null,
      "outputs": [
        {
          "output_type": "stream",
          "name": "stdout",
          "text": [
            "El numero de datos es: 6705\n"
          ]
        },
        {
          "output_type": "execute_result",
          "data": {
            "text/plain": [
              "0.2714392244593587"
            ]
          },
          "metadata": {},
          "execution_count": 5
        }
      ]
    },
    {
      "cell_type": "markdown",
      "source": [
        "2. Se procede con la configuración y evaluación del modelo Naive Bayes (Highway)."
      ],
      "metadata": {
        "id": "FItF9OfUWr1l"
      }
    },
    {
      "cell_type": "code",
      "source": [
        "mnb=GaussianNB()\n",
        "mnb.fit(XD,yd)\n",
        "\n",
        "#Vamos a analizar los resultados para el modelo\n",
        "\n",
        "#Vamos a sacar las medias\n",
        "u=mnb.theta_\n",
        "print(\"Las medias de las variables son:\\n\",u)\n",
        "#Vamos a sacar las desviaciones\n",
        "sigma=np.sqrt(mnb.var_)\n",
        "print(\"Las desviaciones de las variables son:\\n\",sigma)\n",
        "\n",
        "#Procedemos con el análsis de las variaciones de las variables con LI y LS\n",
        "#Limite Superior\n",
        "LS=u+sigma\n",
        "print(\"Los limites superiores para las variables son:\\n\",LS)\n",
        "#Limite Inferior\n",
        "LI=u-sigma\n",
        "print(\"Los limites inferiores para las variables son:\\n\",LI)\n",
        "\n",
        "#Vamos a evaluar el comportamiento del modelo\n",
        "\n",
        "#Vamos a predecir los valores de accidentalidad en autopistas (Highway) del valor deseado\n",
        "ydp=mnb.predict(XD) #Hizo el pronostico de accidentalidad en autopistas\n",
        "\n",
        "#Vamos a evaluar el comportamiento del modelo\n",
        "cm=confusion_matrix(yd,ydp)\n",
        "print(\"La matriz de confusión es:\\n\",cm)\n",
        "\n",
        "#Ya con la matriz de confusión, se procede a extraer los siguientes valores\n",
        "\n",
        "VN=cm[0,0];FP=cm[0,1];FN=cm[1,0];VP=cm[1,1]\n",
        "\n",
        "Ex=(VP+VN)/len(XD)\n",
        "print(\"La Exactitud del Modelo es:\",Ex)\n",
        "\n",
        "Ter=(FP+FN)/len(XD)\n",
        "print(\"La Tasa de Error del Modelo es:\",Ter)\n",
        "\n",
        "Sen=VP/(FN+VP)\n",
        "print(\"La sensibilidad del modelo es:\",Sen)\n",
        "\n",
        "Esp=VN/(VN+FP)\n",
        "print(\"La Especifidad del modelo es:\", Esp)\n",
        "\n",
        "Pres=VP/(VP+FP)\n",
        "print(\"La precision del modelo es\",Pres)\n",
        "\n",
        "PredNeg=VN/(VN+FN)\n",
        "print(\"El valor de Predicción Negativo del modelo es\",PredNeg)\n",
        "\n",
        "#Vamos a evaluar si este accidente fue provocado en una autopista\n",
        "XSC=[[7,1,1,3,0]]\n",
        "ydsc=mnb.predict(XSC)\n",
        "print(\"El accidente fue provocado en:\",ydsc)\n",
        "\n",
        "\n"
      ],
      "metadata": {
        "colab": {
          "base_uri": "https://localhost:8080/"
        },
        "id": "2bJ0CAhOW4Px",
        "outputId": "119ce480-2514-442c-f3c5-d0160534db31"
      },
      "execution_count": null,
      "outputs": [
        {
          "output_type": "stream",
          "name": "stdout",
          "text": [
            "Las medias de las variables son:\n",
            " [[3.88945752 6.7778915  0.85261003 5.52548618 0.6814739 ]\n",
            " [3.82417582 4.31538462 0.79450549 5.47417582 0.70934066]]\n",
            "Las desviaciones de las variables son:\n",
            " [[1.92831125 3.63475806 0.35449426 3.27379337 0.46590475]\n",
            " [1.82800803 2.36793707 0.40406253 3.26215279 0.45406663]]\n",
            "Los limites superiores para las variables son:\n",
            " [[ 5.81776877 10.41264957  1.20710429  8.79927955  1.14737865]\n",
            " [ 5.65218385  6.68332168  1.19856802  8.73632861  1.16340729]]\n",
            "Los limites inferiores para las variables son:\n",
            " [[1.96114628 3.14313344 0.49811577 2.25169281 0.21556915]\n",
            " [1.9961678  1.94744755 0.39044297 2.21202304 0.25527403]]\n",
            "La matriz de confusión es:\n",
            " [[4560  325]\n",
            " [1563  257]]\n",
            "La Exactitud del Modelo es: 0.7184190902311708\n",
            "La Tasa de Error del Modelo es: 0.2815809097688292\n",
            "La sensibilidad del modelo es: 0.1412087912087912\n",
            "La Especifidad del modelo es: 0.9334698055271239\n",
            "La precision del modelo es 0.4415807560137457\n",
            "El valor de Predicción Negativo del modelo es 0.7447329740323371\n",
            "El accidente fue provocado en: [0]\n"
          ]
        },
        {
          "output_type": "stream",
          "name": "stderr",
          "text": [
            "/usr/local/lib/python3.10/dist-packages/sklearn/utils/validation.py:1183: DataConversionWarning: A column-vector y was passed when a 1d array was expected. Please change the shape of y to (n_samples, ), for example using ravel().\n",
            "  y = column_or_1d(y, warn=True)\n",
            "/usr/local/lib/python3.10/dist-packages/sklearn/base.py:465: UserWarning: X does not have valid feature names, but GaussianNB was fitted with feature names\n",
            "  warnings.warn(\n"
          ]
        }
      ]
    },
    {
      "cell_type": "markdown",
      "source": [
        "**ANÁLISIS DE RESULTADOS**\n",
        "\n",
        "Los resultados arrojados por el modelo propuesto frente al pronóstico de accidentalidad en autopistas, mostró que la precisión alcanzó un porcentaje del 44% lo que indica que de un total de 100 accidentes, el modelo tiende a equivocarse en 56%. Además,  la metrica de sensibilidad alcanzó un valor 14%  y una especifidad del 93% frente a la predicción de accidentalidad en autopistas. Es importante tener en cuenta que el infrome arroja resultados donde se evalua la accidentalidad en autopistas de los conductores teniendo en cuenta las disntas variables del contexto en donde se encuentre el conductor como:  Dia de la Semana, Nivel de Impacto (ViolCat), Mes, Cantidad de Luz Diurna, y Cielo Despejado, ademas, se debe considerar que todo ha sido analizado bajo el contexto de la ciudad de San Diego. Como información adicional, la base de datos posee un total de 6705 de registros de accidentes, donde se dividen en dos grupos de 4885 y 1820.\n"
      ],
      "metadata": {
        "id": "umrOUMFvdFtZ"
      }
    }
  ]
}