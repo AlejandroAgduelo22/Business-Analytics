{
  "nbformat": 4,
  "nbformat_minor": 0,
  "metadata": {
    "colab": {
      "provenance": [],
      "mount_file_id": "1StM4CwRDvrG5uG3YaC8VoBsomZNCgqp4",
      "authorship_tag": "ABX9TyP5mGPsrfKzdsdIkad747kx",
      "include_colab_link": true
    },
    "kernelspec": {
      "name": "python3",
      "display_name": "Python 3"
    },
    "language_info": {
      "name": "python"
    }
  },
  "cells": [
    {
      "cell_type": "markdown",
      "metadata": {
        "id": "view-in-github",
        "colab_type": "text"
      },
      "source": [
        "<a href=\"https://colab.research.google.com/github/AlejandroAgduelo22/Business-Analytics/blob/main/Modelo_Arbol_Decision.ipynb\" target=\"_parent\"><img src=\"https://colab.research.google.com/assets/colab-badge.svg\" alt=\"Open In Colab\"/></a>"
      ]
    },
    {
      "cell_type": "markdown",
      "source": [
        "**MODELO ÁRBOL DE DECISIÓN RETO 2**\n",
        "\n",
        "0. Se cargan las librerias"
      ],
      "metadata": {
        "id": "sTj1ai_MU4f0"
      }
    },
    {
      "cell_type": "code",
      "source": [
        "import pandas as pd\n",
        "import numpy as np\n",
        "import matplotlib.pyplot as plt\n",
        "\n",
        "#Traemos el modelo\n",
        "from  sklearn.tree import DecisionTreeClassifier #Esto es el prestamo interbancario\n"
      ],
      "metadata": {
        "id": "4DuyXF-MU_Ow"
      },
      "execution_count": null,
      "outputs": []
    },
    {
      "cell_type": "code",
      "source": [
        "from google.colab import drive\n",
        "drive.mount('/content/drive')"
      ],
      "metadata": {
        "colab": {
          "base_uri": "https://localhost:8080/"
        },
        "id": "Ptr5fumqVgiX",
        "outputId": "06d9c150-97db-440f-dc9e-473f44bea88b"
      },
      "execution_count": null,
      "outputs": [
        {
          "output_type": "stream",
          "name": "stdout",
          "text": [
            "Drive already mounted at /content/drive; to attempt to forcibly remount, call drive.mount(\"/content/drive\", force_remount=True).\n"
          ]
        }
      ]
    },
    {
      "cell_type": "markdown",
      "source": [
        "1. Cargamos los datos desde el drive"
      ],
      "metadata": {
        "id": "bBDRTYh3V7H8"
      }
    },
    {
      "cell_type": "code",
      "source": [
        "nxl='/content/drive/MyDrive/Colab Notebooks/2. BD2_In_App_Pur_Int.xlsx'\n",
        "XDB=pd.read_excel(nxl,sheet_name=0)\n",
        "XDB=XDB.dropna()  #Evitamos celdas vacias\n",
        "XDB.head()\n",
        "\n",
        "#Seleccionamos las variables que nos interesan\n",
        "XD=XDB[['Age','Income','Years','Hours']]\n",
        "XD.head()\n",
        "XD=np.array(XD)                     #Convierto la tabla en números - Variables de entrada\n",
        "yd=XDB['Buy']; yd=np.array(yd)  #Variable de salida - Convierto la tabla\n",
        "\n",
        "\n"
      ],
      "metadata": {
        "id": "rNS3xYZlWBWA"
      },
      "execution_count": null,
      "outputs": []
    },
    {
      "cell_type": "markdown",
      "source": [
        "2. Se procede con la construcció del modelo"
      ],
      "metadata": {
        "id": "0pNBbXaRY6wZ"
      }
    },
    {
      "cell_type": "code",
      "source": [
        "from functools import cmp_to_key\n",
        "mar=DecisionTreeClassifier(criterion='gini',max_depth=4)\n",
        "mar.fit(XD,yd)\n",
        "ydp=mar.predict(XD) #Estos valores de pronóstico sirven para evaluar el modelo\n",
        "\n",
        "#Evaluamos el modelo - Modelos por encima del 75% cumplen\n",
        "from sklearn.metrics import confusion_matrix\n",
        "cm=confusion_matrix(yd,ydp)\n",
        "VN=cm[0,0]\n",
        "FP=cm[0,1]\n",
        "FN=cm[1,0]\n",
        "VP=cm[1,1]\n",
        "\n",
        "Ex=(VN+VP)/(VN+FP+FN+VP)\n",
        "Se=VP/(VP+FN)\n",
        "Es=VN/(VN+FP)\n",
        "\n",
        "print('Exactitud:',Ex)\n",
        "print('Sensibilidad:',Se)\n",
        "print('Especificidad:',Es)"
      ],
      "metadata": {
        "colab": {
          "base_uri": "https://localhost:8080/"
        },
        "id": "fwOoM-ZlZCQ7",
        "outputId": "7ba8d8a4-592c-4c70-ed92-cedcd49804d2"
      },
      "execution_count": null,
      "outputs": [
        {
          "output_type": "stream",
          "name": "stdout",
          "text": [
            "Exactitud: 0.8475\n",
            "Sensibilidad: 0.9478672985781991\n",
            "Especificidad: 0.7354497354497355\n"
          ]
        }
      ]
    },
    {
      "cell_type": "markdown",
      "source": [
        "3. Se procede con la visualización del árbol"
      ],
      "metadata": {
        "id": "Qa93ZKioZdxp"
      }
    },
    {
      "cell_type": "code",
      "source": [
        "from sklearn.tree import export_graphviz       #Estructura del Árbol\n",
        "from pydotplus import graph_from_dot_data      #Que datos le voy a colocar al árbol\n",
        "\n",
        "vs=['Age','Income','Years','Hours'] #Los nombres que aparecen en el árbol\n",
        "\n",
        "dot_data=export_graphviz(mar,feature_names=vs) #Asegurar nombres del gráfico\n",
        "graph=graph_from_dot_data(dot_data)            #Se hace el gráfico del Árbol\n",
        "graph.write_png('arbol_Reto2.png')                   #Se crea el árbol"
      ],
      "metadata": {
        "colab": {
          "base_uri": "https://localhost:8080/"
        },
        "id": "oC3Q7iAbZiEZ",
        "outputId": "680ffeda-c974-4e58-8d9c-ad5c44c26c07"
      },
      "execution_count": null,
      "outputs": [
        {
          "output_type": "execute_result",
          "data": {
            "text/plain": [
              "True"
            ]
          },
          "metadata": {},
          "execution_count": 5
        }
      ]
    },
    {
      "cell_type": "markdown",
      "source": [
        "4. Le calculamos los valores de Buy a los solicitantes nuevos\n"
      ],
      "metadata": {
        "id": "BZz-3FgzaFXo"
      }
    },
    {
      "cell_type": "code",
      "source": [
        "XDB2=pd.read_excel(nxl,sheet_name=1)\n",
        "XDB2=XDB2[['Age','Income','Years','Hours']]  #Seleccionamos las variables que nos interesan\n",
        "XDB2=XDB2.dropna()        #Evita las celdad vacias\n",
        "\n",
        "XD2=np.array(XDB2)        #Convierto la tabla en números - Variables de Entrada\n",
        "ydp2=mar.predict(XD2)     #Estos valores de pronóstico sirven para evaluar el modelo\n",
        "XDB2['Buy']=ydp2       #Le pego la columna a la base de datos\n",
        "XDB2.head()\n",
        "XDB2.to_excel('NuevosCompradoresR2.xlsx')\n",
        "\n",
        "np.sum(ydp2)\n",
        "print(ydp2)"
      ],
      "metadata": {
        "colab": {
          "base_uri": "https://localhost:8080/"
        },
        "id": "2Umm__-iaSy9",
        "outputId": "88103ffd-ae60-403d-dc21-fd228f6ab87a"
      },
      "execution_count": null,
      "outputs": [
        {
          "output_type": "stream",
          "name": "stdout",
          "text": [
            "[1 0]\n"
          ]
        }
      ]
    },
    {
      "cell_type": "markdown",
      "source": [
        "En la base de datos se puede observar un total de 400 posibles compradores en el juego en 189 posibles no compradores (47%) y un total de 211 que si comprarían (53%). De acuerdo con lo anterior, el modelo de árbol arrojo un indice de exactitud cercano al 85%, así como indices de Sensibilidad cercanos al 95% y una especificidad del 74% que muestran el comportamiento del modelo frente a la clasificación de posibles compradores. Este mismo porcentaje en promedio se pudo observar frente al indice de especifidad el cual mide el comportamiento del modelo en la clasificación de posibles compradores. Es importante mencionar que un modelo que exhiba valores de exactitud (Accuarcy) por encima del 75%, es considerado un modelo aceptable para el pronóstico de los datos. Para la base de datos de posibles compradres nuevos (2 compradores), se puede observar que el modelo clasifico un total de 1 en no comprador (50%) en la categoría de compradores y un total de 0 en compradores (50%) en la categoría de compradores. Lo anterior muestra la predominancia del modelo por la clasificación de la categoría de no compradores."
      ],
      "metadata": {
        "id": "9uiiObVX3s1y"
      }
    }
  ]
}